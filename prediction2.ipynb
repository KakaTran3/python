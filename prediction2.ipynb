{
 "cells": [
  {
   "cell_type": "code",
   "execution_count": 1,
   "metadata": {},
   "outputs": [],
   "source": [
    "import pandas as pd\n",
    "from sklearn.ensemble import RandomForestClassifier\n",
    "from sklearn.metrics import precision_score"
   ]
  },
  {
   "cell_type": "code",
   "execution_count": 2,
   "metadata": {},
   "outputs": [],
   "source": [
    "# Đọc dữ liệu\n",
    "matches = pd.read_csv(\"matches.csv\", index_col=0)"
   ]
  },
  {
   "cell_type": "code",
   "execution_count": null,
   "metadata": {},
   "outputs": [],
   "source": [
    "# Tiền xử lý dữ liệu\n",
    "# Chuyển đổi cột \"date\" từ chuỗi thành kiểu datetime\n",
    "matches[\"date\"] = pd.to_datetime(matches[\"date\"])\n",
    "# Tạo cột \"target\" (nhãn) cho kết quả trận đấu, với giá trị 1 nếu đội thắng (kết quả là \"W\"), ngược lại là 0\n",
    "matches[\"target\"] = (matches[\"result\"] == \"W\").astype(\"int\")\n",
    "# Mã hóa các giá trị trong cột \"venue\" (sân đấu) thành các mã số bằng phương pháp category codes\n",
    "matches[\"venue_code\"] = matches[\"venue\"].astype(\"category\").cat.codes\n",
    "# Mã hóa các giá trị trong cột \"opponent\" (đối thủ) thành các mã số bằng phương pháp category codes\n",
    "matches[\"opp_code\"] = matches[\"opponent\"].astype(\"category\").cat.codes\n",
    "# Tạo cột \"hour\" từ cột \"time\" bằng cách tách ra chỉ phần giờ (trước dấu hai chấm)\n",
    "matches[\"hour\"] = matches[\"time\"].str.replace(\":.+\", \"\", regex=True).astype(\"int\")\n",
    "# Tạo cột \"day_code\" từ cột \"date\" chứa mã số của ngày trong tuần (0 là Thứ Hai, 6 là Chủ Nhật)\n",
    "matches[\"day_code\"] = matches[\"date\"].dt.dayofweek"
   ]
  },
  {
   "cell_type": "code",
   "execution_count": 4,
   "metadata": {},
   "outputs": [],
   "source": [
    "# Định nghĩa các đặc trưng\n",
    "predictors = [\"venue_code\", \"opp_code\", \"hour\", \"day_code\"]"
   ]
  },
  {
   "cell_type": "code",
   "execution_count": 5,
   "metadata": {},
   "outputs": [],
   "source": [
    "# Hàm tính toán rolling averages\n",
    "def rolling_averages(group, cols, new_cols):\n",
    "    group = group.sort_values(\"date\")\n",
    "    rolling_stats = group[cols].rolling(3, closed='left').mean()\n",
    "    group[new_cols] = rolling_stats\n",
    "    group = group.dropna(subset=new_cols)\n",
    "    return group"
   ]
  },
  {
   "cell_type": "code",
   "execution_count": 6,
   "metadata": {},
   "outputs": [],
   "source": [
    "# Các cột cần tính rolling averages\n",
    "cols = [\"gf\", \"ga\", \"sh\", \"sot\", \"dist\", \"fk\", \"pk\", \"pkatt\"]\n",
    "new_cols = [f\"{c}_rolling\" for c in cols]"
   ]
  },
  {
   "cell_type": "code",
   "execution_count": 7,
   "metadata": {},
   "outputs": [
    {
     "name": "stderr",
     "output_type": "stream",
     "text": [
      "C:\\Users\\Kaka Tran\\AppData\\Local\\Temp\\ipykernel_14648\\464013960.py:2: DeprecationWarning: DataFrameGroupBy.apply operated on the grouping columns. This behavior is deprecated, and in a future version of pandas the grouping columns will be excluded from the operation. Either pass `include_groups=False` to exclude the groupings or explicitly select the grouping columns after groupby to silence this warning.\n",
      "  matches_rolling = matches.groupby(\"team\").apply(lambda x: rolling_averages(x, cols, new_cols))\n"
     ]
    }
   ],
   "source": [
    "# Áp dụng rolling averages cho tất cả các đội\n",
    "matches_rolling = matches.groupby(\"team\").apply(lambda x: rolling_averages(x, cols, new_cols))\n",
    "matches_rolling = matches_rolling.droplevel('team')\n",
    "matches_rolling.index = range(matches_rolling.shape[0])"
   ]
  },
  {
   "cell_type": "code",
   "execution_count": 8,
   "metadata": {},
   "outputs": [],
   "source": [
    "# Hàm dự đoán\n",
    "def make_predictions(data, predictors):\n",
    "    train = data[data[\"date\"] < '2021-01-01']\n",
    "    test = data[(data[\"date\"] >= '2021-01-01') & (data[\"date\"] < '2022-01-01')]\n",
    "    rf.fit(train[predictors], train[\"target\"])\n",
    "    preds = rf.predict(test[predictors])\n",
    "    combined = pd.DataFrame(dict(actual=test[\"target\"], predicted=preds), index=test.index)\n",
    "    error = precision_score(test[\"target\"], preds)\n",
    "    return combined, error"
   ]
  },
  {
   "cell_type": "code",
   "execution_count": null,
   "metadata": {},
   "outputs": [],
   "source": [
    "# Huấn luyện mô hình và dự đoán cho năm 2021 sử dụng dữ liệu năm 2020\n",
    "rf = RandomForestClassifier(n_estimators=50, min_samples_split=10, random_state=1)\n",
    "combined, prediction_2021 = make_predictions(matches_rolling, predictors + new_cols)"
   ]
  },
  {
   "cell_type": "code",
   "execution_count": null,
   "metadata": {},
   "outputs": [
    {
     "name": "stdout",
     "output_type": "stream",
     "text": [
      "Độ chính xác cho dự đoán năm 2021: 0.4864864864864865\n"
     ]
    }
   ],
   "source": [
    "# Inho dự đoán năm ra độ chính xác c 2021\n",
    "print(f\"Độ chính xác cho dự đoán năm 2021: {prediction_2021}\")"
   ]
  },
  {
   "cell_type": "code",
   "execution_count": null,
   "metadata": {},
   "outputs": [
    {
     "name": "stdout",
     "output_type": "stream",
     "text": [
      "    actual  predicted\n",
      "13       1          1\n",
      "14       0          0\n",
      "15       1          0\n",
      "16       1          0\n",
      "17       0          0\n"
     ]
    }
   ],
   "source": [
    "# Kiểm tra kết quả thực tế và dự đoán cho năm 2021\n",
    "print(combined.head())"
   ]
  },
  {
   "cell_type": "code",
   "execution_count": 12,
   "metadata": {},
   "outputs": [],
   "source": [
    "# Hàm dự đoán cho năm 2022\n",
    "def make_predictions_for_2022(data, predictors):\n",
    "    train = data[data[\"date\"] < '2022-01-01']\n",
    "    test = data[data[\"date\"] >= '2022-01-01']\n",
    "    rf.fit(train[predictors], train[\"target\"])\n",
    "    preds = rf.predict(test[predictors])\n",
    "    combined = pd.DataFrame(dict(actual=test[\"target\"], predicted=preds), index=test.index)\n",
    "    error = precision_score(test[\"target\"], preds)\n",
    "    return combined, error\n"
   ]
  },
  {
   "cell_type": "code",
   "execution_count": null,
   "metadata": {},
   "outputs": [],
   "source": [
    "# Huấn luyện mô hình và dự đoán cho năm 2022 sử dụng dữ liệu năm 2021\n",
    "combined_2022, prediction_2022 = make_predictions_for_2022(matches_rolling, predictors + new_cols)"
   ]
  },
  {
   "cell_type": "code",
   "execution_count": null,
   "metadata": {},
   "outputs": [
    {
     "name": "stdout",
     "output_type": "stream",
     "text": [
      "Độ chính xác cho dự đoán năm 2022: 0.625\n"
     ]
    }
   ],
   "source": [
    "# In ra độ chính xác cho dự đoán năm 2022\n",
    "print(f\"Độ chính xác cho dự đoán năm 2022: {prediction_2022}\")"
   ]
  },
  {
   "cell_type": "code",
   "execution_count": 19,
   "metadata": {},
   "outputs": [
    {
     "name": "stdout",
     "output_type": "stream",
     "text": [
      "     actual  predicted\n",
      "54        0          0\n",
      "55        0          0\n",
      "56        1          0\n",
      "57        1          0\n",
      "58        1          1\n",
      "..      ...        ...\n",
      "427       1          0\n",
      "428       0          0\n",
      "429       1          0\n",
      "430       0          0\n",
      "431       1          0\n",
      "\n",
      "[100 rows x 2 columns]\n"
     ]
    }
   ],
   "source": [
    "# Kiểm tra kết quả thực tế và dự đoán cho năm 2022\n",
    "print(combined_2022.head(100))"
   ]
  }
 ],
 "metadata": {
  "kernelspec": {
   "display_name": "Python 3",
   "language": "python",
   "name": "python3"
  },
  "language_info": {
   "codemirror_mode": {
    "name": "ipython",
    "version": 3
   },
   "file_extension": ".py",
   "mimetype": "text/x-python",
   "name": "python",
   "nbconvert_exporter": "python",
   "pygments_lexer": "ipython3",
   "version": "3.12.5"
  }
 },
 "nbformat": 4,
 "nbformat_minor": 2
}
